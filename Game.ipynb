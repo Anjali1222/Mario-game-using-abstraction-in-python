{
 "cells": [
  {
   "cell_type": "code",
   "execution_count": null,
   "id": "f00789fc",
   "metadata": {},
   "outputs": [],
   "source": [
    "#Class Object, method, encapsulation, abstraction"
   ]
  },
  {
   "cell_type": "markdown",
   "id": "92590eec",
   "metadata": {},
   "source": [
    "# Abstraction"
   ]
  },
  {
   "cell_type": "markdown",
   "id": "858a7f0d",
   "metadata": {},
   "source": [
    "#### Hiding unnecessary details(complex detail or code) and showing necessary details to the user."
   ]
  },
  {
   "cell_type": "markdown",
   "id": "0eded95c",
   "metadata": {},
   "source": [
    "Example:- CAR\n",
    "#### Complex details or mechanism such as how engine is working, raditor is working etc is hidden from the car user(driver) in car body and only necessary details such as driving wheel, Accelerator,brakes, clutch, gear etc are given to the user. This is called as Abstraction"
   ]
  },
  {
   "cell_type": "markdown",
   "id": "e9f63da6",
   "metadata": {},
   "source": [
    "#### Example:- Mobile Phone"
   ]
  },
  {
   "cell_type": "markdown",
   "id": "c7b0cc14",
   "metadata": {},
   "source": [
    "#### Print(\"msg\",variable)\n",
    "#### Defination of print() is hidden from the user(developer) and only necessary details i.e syntax of print() function is given to the user to use it.m"
   ]
  },
  {
   "cell_type": "code",
   "execution_count": 1,
   "id": "c672a825",
   "metadata": {},
   "outputs": [
    {
     "name": "stdout",
     "output_type": "stream",
     "text": [
      "Player Name:-  Mario\n",
      "Initial Score:-  0\n",
      "Initial Life:-  3\n"
     ]
    }
   ],
   "source": [
    "class character():\n",
    "    def __init__(self,name):\n",
    "        self.name=name\n",
    "        self.__score=0\n",
    "        self.__life=3\n",
    "        \n",
    "    \n",
    "    def displaylife(self):\n",
    "        return self.__life\n",
    "    def displayscore(self):\n",
    "        return self.__score\n",
    "    def punch(self):\n",
    "        self.__score=self.__score +5\n",
    "    def kick(self):\n",
    "        self.__score=self.__score +10\n",
    "    def stabbed(self):\n",
    "        self.__life=self.__life - 1\n",
    "    \n",
    "    def intro(self):\n",
    "        print(\"Player Name:- \",self.name)\n",
    "        print(\"Initial Score:- \",self.displayscore())\n",
    "        print(\"Initial Life:- \",self.displaylife())\n",
    "    \n",
    "\n",
    "mario=character(\"Mario\")\n",
    "mario.intro()\n"
   ]
  },
  {
   "cell_type": "code",
   "execution_count": 3,
   "id": "40e9c6e2",
   "metadata": {},
   "outputs": [
    {
     "data": {
      "text/plain": [
       "3"
      ]
     },
     "execution_count": 3,
     "metadata": {},
     "output_type": "execute_result"
    }
   ],
   "source": [
    "mario.displaylife()"
   ]
  },
  {
   "cell_type": "code",
   "execution_count": 4,
   "id": "9beed002",
   "metadata": {},
   "outputs": [
    {
     "name": "stdout",
     "output_type": "stream",
     "text": [
      "Player Name:-  Mario\n",
      "Initial Score:-  0\n",
      "Initial Life:-  3\n"
     ]
    }
   ],
   "source": [
    "mario.intro()"
   ]
  },
  {
   "cell_type": "code",
   "execution_count": 6,
   "id": "68d6613a",
   "metadata": {},
   "outputs": [],
   "source": [
    "mario.kick()"
   ]
  },
  {
   "cell_type": "code",
   "execution_count": 7,
   "id": "0975c97b",
   "metadata": {},
   "outputs": [
    {
     "data": {
      "text/plain": [
       "10"
      ]
     },
     "execution_count": 7,
     "metadata": {},
     "output_type": "execute_result"
    }
   ],
   "source": [
    "mario.displayscore()"
   ]
  },
  {
   "cell_type": "code",
   "execution_count": 18,
   "id": "60cfcbbe",
   "metadata": {},
   "outputs": [
    {
     "name": "stdout",
     "output_type": "stream",
     "text": [
      "Player Name:-  Mario\n",
      "Initial Score:-  0\n",
      "Initial Life:-  3\n"
     ]
    }
   ],
   "source": [
    "class character():\n",
    "    def __init__(self,name):\n",
    "        self.name=name\n",
    "        self.__score=0\n",
    "        self.__life=3\n",
    "        \n",
    "    \n",
    "    def displaylife(self):\n",
    "        return self.__life\n",
    "    def displayscore(self):\n",
    "        return self.__score\n",
    "    def punch(self):\n",
    "        self.__score=self.__score +5\n",
    "    def kick(self):\n",
    "        self.__score=self.__score +10\n",
    "    def stabbed(self):\n",
    "        self.__life=self.__life - 1\n",
    "    \n",
    "    def intro(self):\n",
    "        print(\"Player Name:- \",self.name)\n",
    "        print(\"Initial Score:- \",self.displayscore())\n",
    "        print(\"Initial Life:- \",self.displaylife())\n",
    "    \n",
    "\n",
    "mario=character(\"Mario\")\n",
    "mario.intro()\n"
   ]
  },
  {
   "cell_type": "code",
   "execution_count": 19,
   "id": "75220178",
   "metadata": {},
   "outputs": [],
   "source": [
    "# x=mario.displaylife()\n",
    "\n",
    "#if(x==0):\n",
    "#    print(\"Game Over\")\n",
    "#else:\n",
    "#    print(\"Welcome To level 2\")"
   ]
  },
  {
   "cell_type": "code",
   "execution_count": null,
   "id": "a75489db",
   "metadata": {},
   "outputs": [],
   "source": []
  }
 ],
 "metadata": {
  "kernelspec": {
   "display_name": "Python 3",
   "language": "python",
   "name": "python3"
  },
  "language_info": {
   "codemirror_mode": {
    "name": "ipython",
    "version": 3
   },
   "file_extension": ".py",
   "mimetype": "text/x-python",
   "name": "python",
   "nbconvert_exporter": "python",
   "pygments_lexer": "ipython3",
   "version": "3.8.8"
  }
 },
 "nbformat": 4,
 "nbformat_minor": 5
}
